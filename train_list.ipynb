{
  "nbformat": 4,
  "nbformat_minor": 0,
  "metadata": {
    "colab": {
      "name": "train_list.ipynb",
      "provenance": [],
      "collapsed_sections": [],
      "authorship_tag": "ABX9TyNnU3w5/7qrWOze5QPjjN/3",
      "include_colab_link": true
    },
    "kernelspec": {
      "name": "python3",
      "display_name": "Python 3"
    },
    "accelerator": "TPU"
  },
  "cells": [
    {
      "cell_type": "markdown",
      "metadata": {
        "id": "view-in-github",
        "colab_type": "text"
      },
      "source": [
        "<a href=\"https://colab.research.google.com/github/div-yansh/train_list/blob/master/train_list.ipynb\" target=\"_parent\"><img src=\"https://colab.research.google.com/assets/colab-badge.svg\" alt=\"Open In Colab\"/></a>"
      ]
    },
    {
      "cell_type": "code",
      "metadata": {
        "id": "6oWhHxFBtHOT",
        "colab_type": "code",
        "colab": {}
      },
      "source": [
        "import requests\n",
        "import bs4\n",
        "import pandas as pd\n",
        "\n",
        "from google.colab import files"
      ],
      "execution_count": 0,
      "outputs": []
    },
    {
      "cell_type": "code",
      "metadata": {
        "id": "fD5V6NDDtiOF",
        "colab_type": "code",
        "colab": {}
      },
      "source": [
        "url = \"https://www.prokerala.com/travel/indian-railway/trains/\"\n",
        "response = requests.get(url)"
      ],
      "execution_count": 0,
      "outputs": []
    },
    {
      "cell_type": "code",
      "metadata": {
        "id": "Flb7FGQ7ts_A",
        "colab_type": "code",
        "colab": {}
      },
      "source": [
        "soup = bs4.BeautifulSoup(response.text, 'lxml')"
      ],
      "execution_count": 0,
      "outputs": []
    },
    {
      "cell_type": "code",
      "metadata": {
        "id": "pbLgmnmozEsK",
        "colab_type": "code",
        "colab": {}
      },
      "source": [
        "train_no = []\n",
        "train_name = []\n",
        "train_link = []\n",
        "source = []\n",
        "destination = []"
      ],
      "execution_count": 0,
      "outputs": []
    },
    {
      "cell_type": "code",
      "metadata": {
        "id": "89KC5e3jtx0P",
        "colab_type": "code",
        "colab": {}
      },
      "source": [
        "match = soup.findAll(\"div\", class_=\"table-responsive\")\n",
        "for iter_ in match:\n",
        "    match2 = iter_.find(\"table\", class_=\"table t-xsmall table-striped\")\n",
        "    match3 = match2.find(\"tbody\")\n",
        "    match4 = match3.findAll(\"tr\")\n",
        "\n",
        "    for iter_2 in match4:\n",
        "        match5 = iter_2.findAll(\"td\")\n",
        "        link = \"https://www.prokerala.com/\" + match5[2].find(\"a\")[\"href\"]\n",
        "\n",
        "        train_no.append(match5[1].text)\n",
        "        train_name.append(match5[2].text)\n",
        "        train_link.append(link)\n",
        "        source.append(match5[3].text)\n",
        "        destination.append(match5[4].text)"
      ],
      "execution_count": 0,
      "outputs": []
    },
    {
      "cell_type": "code",
      "metadata": {
        "id": "iWaT52_R20pG",
        "colab_type": "code",
        "colab": {}
      },
      "source": [
        "df = pd.DataFrame()"
      ],
      "execution_count": 0,
      "outputs": []
    },
    {
      "cell_type": "code",
      "metadata": {
        "id": "iYGTQOod29XZ",
        "colab_type": "code",
        "colab": {}
      },
      "source": [
        "df[[\"train_no\"]] = pd.DataFrame(train_no)\n",
        "df[[\"train_name\"]] = pd.DataFrame(train_name)\n",
        "df[[\"source\"]] = pd.DataFrame(source)\n",
        "df[[\"destination\"]] = pd.DataFrame(destination)\n",
        "df[[\"train_link\"]] = pd.DataFrame(train_link)"
      ],
      "execution_count": 0,
      "outputs": []
    },
    {
      "cell_type": "code",
      "metadata": {
        "id": "2NK6U2wm4ETu",
        "colab_type": "code",
        "outputId": "5f00b732-d32d-4015-82b6-535538166544",
        "colab": {
          "base_uri": "https://localhost:8080/",
          "height": 359
        }
      },
      "source": [
        "df.head(10)"
      ],
      "execution_count": 0,
      "outputs": [
        {
          "output_type": "execute_result",
          "data": {
            "text/html": [
              "<div>\n",
              "<style scoped>\n",
              "    .dataframe tbody tr th:only-of-type {\n",
              "        vertical-align: middle;\n",
              "    }\n",
              "\n",
              "    .dataframe tbody tr th {\n",
              "        vertical-align: top;\n",
              "    }\n",
              "\n",
              "    .dataframe thead th {\n",
              "        text-align: right;\n",
              "    }\n",
              "</style>\n",
              "<table border=\"1\" class=\"dataframe\">\n",
              "  <thead>\n",
              "    <tr style=\"text-align: right;\">\n",
              "      <th></th>\n",
              "      <th>train_no</th>\n",
              "      <th>train_name</th>\n",
              "      <th>source</th>\n",
              "      <th>destination</th>\n",
              "      <th>train_link</th>\n",
              "    </tr>\n",
              "  </thead>\n",
              "  <tbody>\n",
              "    <tr>\n",
              "      <th>0</th>\n",
              "      <td>15609</td>\n",
              "      <td>Abadh Assam Express</td>\n",
              "      <td>Guwahati</td>\n",
              "      <td>Lalgarh Junction</td>\n",
              "      <td>https://www.prokerala.com//travel/indian-railw...</td>\n",
              "    </tr>\n",
              "    <tr>\n",
              "      <th>1</th>\n",
              "      <td>58719</td>\n",
              "      <td>Abhanpur Rajim NG Passenger</td>\n",
              "      <td>Abhanpur Junction</td>\n",
              "      <td>Rajim</td>\n",
              "      <td>https://www.prokerala.com//travel/indian-railw...</td>\n",
              "    </tr>\n",
              "    <tr>\n",
              "      <th>2</th>\n",
              "      <td>58721</td>\n",
              "      <td>Abhanpur Rajim NG Passenger</td>\n",
              "      <td>Abhanpur Junction</td>\n",
              "      <td>Rajim</td>\n",
              "      <td>https://www.prokerala.com//travel/indian-railw...</td>\n",
              "    </tr>\n",
              "    <tr>\n",
              "      <th>3</th>\n",
              "      <td>54703</td>\n",
              "      <td>Abohar Jodhpur Passenger</td>\n",
              "      <td>Abohar</td>\n",
              "      <td>Jodhpur Junction</td>\n",
              "      <td>https://www.prokerala.com//travel/indian-railw...</td>\n",
              "    </tr>\n",
              "    <tr>\n",
              "      <th>4</th>\n",
              "      <td>79438</td>\n",
              "      <td>Abu Road Mahesana  DEMU</td>\n",
              "      <td>Abu Road</td>\n",
              "      <td>Mehsana Junction</td>\n",
              "      <td>https://www.prokerala.com//travel/indian-railw...</td>\n",
              "    </tr>\n",
              "    <tr>\n",
              "      <th>5</th>\n",
              "      <td>55338</td>\n",
              "      <td>Achhnera Kasganj Fast Passenger</td>\n",
              "      <td>Achhnera Junction</td>\n",
              "      <td>Kasganj</td>\n",
              "      <td>https://www.prokerala.com//travel/indian-railw...</td>\n",
              "    </tr>\n",
              "    <tr>\n",
              "      <th>6</th>\n",
              "      <td>22188</td>\n",
              "      <td>Adhartal Habibganj Intercity Express</td>\n",
              "      <td>Adhartal</td>\n",
              "      <td>Bhopal Habibganj</td>\n",
              "      <td>https://www.prokerala.com//travel/indian-railw...</td>\n",
              "    </tr>\n",
              "    <tr>\n",
              "      <th>7</th>\n",
              "      <td>17409</td>\n",
              "      <td>Adilabad Hazur Sahib Nanded Express</td>\n",
              "      <td>Adilabad</td>\n",
              "      <td>Nanded</td>\n",
              "      <td>https://www.prokerala.com//travel/indian-railw...</td>\n",
              "    </tr>\n",
              "    <tr>\n",
              "      <th>8</th>\n",
              "      <td>07501</td>\n",
              "      <td>Adilabad Pandharpur Ekadashi Special</td>\n",
              "      <td>Adilabad</td>\n",
              "      <td>Pandharpur</td>\n",
              "      <td>https://www.prokerala.com//travel/indian-railw...</td>\n",
              "    </tr>\n",
              "    <tr>\n",
              "      <th>9</th>\n",
              "      <td>57554</td>\n",
              "      <td>Adilabad Parli Vaijnath Passenger</td>\n",
              "      <td>Adilabad</td>\n",
              "      <td>Parli Vaijnath</td>\n",
              "      <td>https://www.prokerala.com//travel/indian-railw...</td>\n",
              "    </tr>\n",
              "  </tbody>\n",
              "</table>\n",
              "</div>"
            ],
            "text/plain": [
              "  train_no  ...                                         train_link\n",
              "0    15609  ...  https://www.prokerala.com//travel/indian-railw...\n",
              "1    58719  ...  https://www.prokerala.com//travel/indian-railw...\n",
              "2    58721  ...  https://www.prokerala.com//travel/indian-railw...\n",
              "3    54703  ...  https://www.prokerala.com//travel/indian-railw...\n",
              "4    79438  ...  https://www.prokerala.com//travel/indian-railw...\n",
              "5    55338  ...  https://www.prokerala.com//travel/indian-railw...\n",
              "6    22188  ...  https://www.prokerala.com//travel/indian-railw...\n",
              "7    17409  ...  https://www.prokerala.com//travel/indian-railw...\n",
              "8    07501  ...  https://www.prokerala.com//travel/indian-railw...\n",
              "9    57554  ...  https://www.prokerala.com//travel/indian-railw...\n",
              "\n",
              "[10 rows x 5 columns]"
            ]
          },
          "metadata": {
            "tags": []
          },
          "execution_count": 18
        }
      ]
    },
    {
      "cell_type": "code",
      "metadata": {
        "id": "vtsHCbc14GFs",
        "colab_type": "code",
        "outputId": "368c11a4-0457-4aff-fb64-870b7a88f4b1",
        "colab": {
          "base_uri": "https://localhost:8080/",
          "height": 359
        }
      },
      "source": [
        "df.tail(10)"
      ],
      "execution_count": 0,
      "outputs": [
        {
          "output_type": "execute_result",
          "data": {
            "text/html": [
              "<div>\n",
              "<style scoped>\n",
              "    .dataframe tbody tr th:only-of-type {\n",
              "        vertical-align: middle;\n",
              "    }\n",
              "\n",
              "    .dataframe tbody tr th {\n",
              "        vertical-align: top;\n",
              "    }\n",
              "\n",
              "    .dataframe thead th {\n",
              "        text-align: right;\n",
              "    }\n",
              "</style>\n",
              "<table border=\"1\" class=\"dataframe\">\n",
              "  <thead>\n",
              "    <tr style=\"text-align: right;\">\n",
              "      <th></th>\n",
              "      <th>train_no</th>\n",
              "      <th>train_name</th>\n",
              "      <th>source</th>\n",
              "      <th>destination</th>\n",
              "      <th>train_link</th>\n",
              "    </tr>\n",
              "  </thead>\n",
              "  <tbody>\n",
              "    <tr>\n",
              "      <th>9962</th>\n",
              "      <td>18112</td>\n",
              "      <td>Yesvantpur Tatanagar Express</td>\n",
              "      <td>Yesvantpur Junction</td>\n",
              "      <td>Tatanagar Junction</td>\n",
              "      <td>https://www.prokerala.com//travel/indian-railw...</td>\n",
              "    </tr>\n",
              "    <tr>\n",
              "      <th>9963</th>\n",
              "      <td>12890</td>\n",
              "      <td>Yesvantpur Tatanagar Superfast Express</td>\n",
              "      <td>Yesvantpur Junction</td>\n",
              "      <td>Tatanagar Junction</td>\n",
              "      <td>https://www.prokerala.com//travel/indian-railw...</td>\n",
              "    </tr>\n",
              "    <tr>\n",
              "      <th>9964</th>\n",
              "      <td>76527</td>\n",
              "      <td>Yesvantpur Tumakuru  DEMU</td>\n",
              "      <td>Yesvantpur Junction</td>\n",
              "      <td>Tumkur</td>\n",
              "      <td>https://www.prokerala.com//travel/indian-railw...</td>\n",
              "    </tr>\n",
              "    <tr>\n",
              "      <th>9965</th>\n",
              "      <td>06597</td>\n",
              "      <td>Yesvantpur Tumkur Demu Special</td>\n",
              "      <td>Yesvantpur Junction</td>\n",
              "      <td>Tumkur</td>\n",
              "      <td>https://www.prokerala.com//travel/indian-railw...</td>\n",
              "    </tr>\n",
              "    <tr>\n",
              "      <th>9966</th>\n",
              "      <td>17309</td>\n",
              "      <td>Yesvantpur Vasco Da Gama Express</td>\n",
              "      <td>Yesvantpur Junction</td>\n",
              "      <td>Vasco da Gama</td>\n",
              "      <td>https://www.prokerala.com//travel/indian-railw...</td>\n",
              "    </tr>\n",
              "    <tr>\n",
              "      <th>9967</th>\n",
              "      <td>06541</td>\n",
              "      <td>Yesvantpur Vijayapura Special</td>\n",
              "      <td>Yesvantpur Junction</td>\n",
              "      <td>Bijapur</td>\n",
              "      <td>https://www.prokerala.com//travel/indian-railw...</td>\n",
              "    </tr>\n",
              "    <tr>\n",
              "      <th>9968</th>\n",
              "      <td>19031</td>\n",
              "      <td>Yoga Express</td>\n",
              "      <td>Ahmedabad Junction</td>\n",
              "      <td>Haridwar Junction</td>\n",
              "      <td>https://www.prokerala.com//travel/indian-railw...</td>\n",
              "    </tr>\n",
              "    <tr>\n",
              "      <th>9969</th>\n",
              "      <td>19032</td>\n",
              "      <td>Yoga Express</td>\n",
              "      <td>Haridwar Junction</td>\n",
              "      <td>Ahmedabad Junction</td>\n",
              "      <td>https://www.prokerala.com//travel/indian-railw...</td>\n",
              "    </tr>\n",
              "    <tr>\n",
              "      <th>9970</th>\n",
              "      <td>12395</td>\n",
              "      <td>Ziyarat Express</td>\n",
              "      <td>Rajendar Nagar Bihar</td>\n",
              "      <td>Ajmer Junction</td>\n",
              "      <td>https://www.prokerala.com//travel/indian-railw...</td>\n",
              "    </tr>\n",
              "    <tr>\n",
              "      <th>9971</th>\n",
              "      <td>12396</td>\n",
              "      <td>Ziyarat Express</td>\n",
              "      <td>Ajmer Junction</td>\n",
              "      <td>Rajendar Nagar Bihar</td>\n",
              "      <td>https://www.prokerala.com//travel/indian-railw...</td>\n",
              "    </tr>\n",
              "  </tbody>\n",
              "</table>\n",
              "</div>"
            ],
            "text/plain": [
              "     train_no  ...                                         train_link\n",
              "9962    18112  ...  https://www.prokerala.com//travel/indian-railw...\n",
              "9963    12890  ...  https://www.prokerala.com//travel/indian-railw...\n",
              "9964    76527  ...  https://www.prokerala.com//travel/indian-railw...\n",
              "9965    06597  ...  https://www.prokerala.com//travel/indian-railw...\n",
              "9966    17309  ...  https://www.prokerala.com//travel/indian-railw...\n",
              "9967    06541  ...  https://www.prokerala.com//travel/indian-railw...\n",
              "9968    19031  ...  https://www.prokerala.com//travel/indian-railw...\n",
              "9969    19032  ...  https://www.prokerala.com//travel/indian-railw...\n",
              "9970    12395  ...  https://www.prokerala.com//travel/indian-railw...\n",
              "9971    12396  ...  https://www.prokerala.com//travel/indian-railw...\n",
              "\n",
              "[10 rows x 5 columns]"
            ]
          },
          "metadata": {
            "tags": []
          },
          "execution_count": 19
        }
      ]
    },
    {
      "cell_type": "code",
      "metadata": {
        "id": "Iji5ElVz4MeV",
        "colab_type": "code",
        "colab": {}
      },
      "source": [
        "df.to_csv(\"train_list.csv\")\n",
        "files.download(\"train_list.csv\")"
      ],
      "execution_count": 0,
      "outputs": []
    }
  ]
}