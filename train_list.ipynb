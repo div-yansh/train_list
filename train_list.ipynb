{
  "nbformat": 4,
  "nbformat_minor": 0,
  "metadata": {
    "colab": {
      "name": "train_list.ipynb",
      "provenance": [],
      "collapsed_sections": [],
      "authorship_tag": "ABX9TyO6NeEcEumn8VMcFyjigCVA",
      "include_colab_link": true
    },
    "kernelspec": {
      "name": "python3",
      "display_name": "Python 3"
    },
    "accelerator": "TPU"
  },
  "cells": [
    {
      "cell_type": "markdown",
      "metadata": {
        "id": "view-in-github",
        "colab_type": "text"
      },
      "source": [
        "<a href=\"https://colab.research.google.com/github/div-yansh/train_list/blob/master/train_list.ipynb\" target=\"_parent\"><img src=\"https://colab.research.google.com/assets/colab-badge.svg\" alt=\"Open In Colab\"/></a>"
      ]
    },
    {
      "cell_type": "code",
      "metadata": {
        "id": "6oWhHxFBtHOT",
        "colab_type": "code",
        "colab": {}
      },
      "source": [
        "import requests\n",
        "import bs4\n",
        "import pandas as pd\n",
        "\n",
        "from google.colab import files"
      ],
      "execution_count": 0,
      "outputs": []
    },
    {
      "cell_type": "code",
      "metadata": {
        "id": "fD5V6NDDtiOF",
        "colab_type": "code",
        "colab": {}
      },
      "source": [
        "url = \"https://www.prokerala.com/travel/indian-railway/trains/\"\n",
        "response = requests.get(url)"
      ],
      "execution_count": 0,
      "outputs": []
    },
    {
      "cell_type": "code",
      "metadata": {
        "id": "Flb7FGQ7ts_A",
        "colab_type": "code",
        "colab": {}
      },
      "source": [
        "soup = bs4.BeautifulSoup(response.text, 'lxml')"
      ],
      "execution_count": 0,
      "outputs": []
    },
    {
      "cell_type": "code",
      "metadata": {
        "id": "pbLgmnmozEsK",
        "colab_type": "code",
        "colab": {}
      },
      "source": [
        "train_no = []\n",
        "train_name = []\n",
        "train_link = []\n",
        "source = []\n",
        "destination = []"
      ],
      "execution_count": 0,
      "outputs": []
    },
    {
      "cell_type": "code",
      "metadata": {
        "id": "89KC5e3jtx0P",
        "colab_type": "code",
        "colab": {}
      },
      "source": [
        "match = soup.findAll(\"div\", class_=\"table-responsive\")\n",
        "for iter_ in match:\n",
        "    match2 = iter_.find(\"table\", class_=\"table t-xsmall table-striped\")\n",
        "    match3 = match2.find(\"tbody\")\n",
        "    match4 = match3.findAll(\"tr\")\n",
        "\n",
        "    for iter_2 in match4:\n",
        "        match5 = iter_2.findAll(\"td\")\n",
        "        link = \"https://www.prokerala.com/\" + match5[2].find(\"a\")[\"href\"]\n",
        "\n",
        "        train_no.append(match5[1].text)\n",
        "        train_name.append(match5[2].text)\n",
        "        train_link.append(link)\n",
        "        source.append(match5[3].text)\n",
        "        destination.append(match5[4].text)"
      ],
      "execution_count": 0,
      "outputs": []
    },
    {
      "cell_type": "code",
      "metadata": {
        "id": "iWaT52_R20pG",
        "colab_type": "code",
        "colab": {}
      },
      "source": [
        "df = pd.DataFrame()"
      ],
      "execution_count": 0,
      "outputs": []
    },
    {
      "cell_type": "code",
      "metadata": {
        "id": "_DcIY5WHj3Sb",
        "colab_type": "code",
        "colab": {}
      },
      "source": [
        "source_code = [None] * len(source)\n",
        "destination_code = [None] * len(destination)"
      ],
      "execution_count": 0,
      "outputs": []
    },
    {
      "cell_type": "code",
      "metadata": {
        "id": "iYGTQOod29XZ",
        "colab_type": "code",
        "colab": {}
      },
      "source": [
        "df[[\"train_no\"]] = pd.DataFrame(train_no)\n",
        "df[[\"train_name\"]] = pd.DataFrame(train_name)\n",
        "df[[\"source\"]] = pd.DataFrame(source)\n",
        "df[[\"source_code\"]] = pd.DataFrame(source_code)\n",
        "df[[\"destination\"]] = pd.DataFrame(destination)\n",
        "df[[\"destination_code\"]] = pd.DataFrame(destination_code)\n",
        "df[[\"train_link\"]] = pd.DataFrame(train_link)"
      ],
      "execution_count": 0,
      "outputs": []
    },
    {
      "cell_type": "code",
      "metadata": {
        "id": "2NK6U2wm4ETu",
        "colab_type": "code",
        "outputId": "6e0b36cc-1101-4625-bd6c-b65cf5b03cee",
        "colab": {
          "base_uri": "https://localhost:8080/",
          "height": 204
        }
      },
      "source": [
        "df.head()"
      ],
      "execution_count": 236,
      "outputs": [
        {
          "output_type": "execute_result",
          "data": {
            "text/html": [
              "<div>\n",
              "<style scoped>\n",
              "    .dataframe tbody tr th:only-of-type {\n",
              "        vertical-align: middle;\n",
              "    }\n",
              "\n",
              "    .dataframe tbody tr th {\n",
              "        vertical-align: top;\n",
              "    }\n",
              "\n",
              "    .dataframe thead th {\n",
              "        text-align: right;\n",
              "    }\n",
              "</style>\n",
              "<table border=\"1\" class=\"dataframe\">\n",
              "  <thead>\n",
              "    <tr style=\"text-align: right;\">\n",
              "      <th></th>\n",
              "      <th>train_no</th>\n",
              "      <th>train_name</th>\n",
              "      <th>source</th>\n",
              "      <th>source_code</th>\n",
              "      <th>destination</th>\n",
              "      <th>destination_code</th>\n",
              "      <th>train_link</th>\n",
              "    </tr>\n",
              "  </thead>\n",
              "  <tbody>\n",
              "    <tr>\n",
              "      <th>0</th>\n",
              "      <td>15609</td>\n",
              "      <td>Abadh Assam Express</td>\n",
              "      <td>Guwahati</td>\n",
              "      <td>None</td>\n",
              "      <td>Lalgarh Junction</td>\n",
              "      <td>None</td>\n",
              "      <td>https://www.prokerala.com//travel/indian-railw...</td>\n",
              "    </tr>\n",
              "    <tr>\n",
              "      <th>1</th>\n",
              "      <td>58719</td>\n",
              "      <td>Abhanpur Rajim NG Passenger</td>\n",
              "      <td>Abhanpur Junction</td>\n",
              "      <td>None</td>\n",
              "      <td>Rajim</td>\n",
              "      <td>None</td>\n",
              "      <td>https://www.prokerala.com//travel/indian-railw...</td>\n",
              "    </tr>\n",
              "    <tr>\n",
              "      <th>2</th>\n",
              "      <td>58721</td>\n",
              "      <td>Abhanpur Rajim NG Passenger</td>\n",
              "      <td>Abhanpur Junction</td>\n",
              "      <td>None</td>\n",
              "      <td>Rajim</td>\n",
              "      <td>None</td>\n",
              "      <td>https://www.prokerala.com//travel/indian-railw...</td>\n",
              "    </tr>\n",
              "    <tr>\n",
              "      <th>3</th>\n",
              "      <td>54703</td>\n",
              "      <td>Abohar Jodhpur Passenger</td>\n",
              "      <td>Abohar</td>\n",
              "      <td>None</td>\n",
              "      <td>Jodhpur Junction</td>\n",
              "      <td>None</td>\n",
              "      <td>https://www.prokerala.com//travel/indian-railw...</td>\n",
              "    </tr>\n",
              "    <tr>\n",
              "      <th>4</th>\n",
              "      <td>79438</td>\n",
              "      <td>Abu Road Mahesana  DEMU</td>\n",
              "      <td>Abu Road</td>\n",
              "      <td>None</td>\n",
              "      <td>Mehsana Junction</td>\n",
              "      <td>None</td>\n",
              "      <td>https://www.prokerala.com//travel/indian-railw...</td>\n",
              "    </tr>\n",
              "  </tbody>\n",
              "</table>\n",
              "</div>"
            ],
            "text/plain": [
              "  train_no  ...                                         train_link\n",
              "0    15609  ...  https://www.prokerala.com//travel/indian-railw...\n",
              "1    58719  ...  https://www.prokerala.com//travel/indian-railw...\n",
              "2    58721  ...  https://www.prokerala.com//travel/indian-railw...\n",
              "3    54703  ...  https://www.prokerala.com//travel/indian-railw...\n",
              "4    79438  ...  https://www.prokerala.com//travel/indian-railw...\n",
              "\n",
              "[5 rows x 7 columns]"
            ]
          },
          "metadata": {
            "tags": []
          },
          "execution_count": 236
        }
      ]
    },
    {
      "cell_type": "code",
      "metadata": {
        "id": "vtsHCbc14GFs",
        "colab_type": "code",
        "outputId": "6ae20c22-8e10-4677-bdd6-96bc30ff3027",
        "colab": {
          "base_uri": "https://localhost:8080/",
          "height": 204
        }
      },
      "source": [
        "df.tail()"
      ],
      "execution_count": 237,
      "outputs": [
        {
          "output_type": "execute_result",
          "data": {
            "text/html": [
              "<div>\n",
              "<style scoped>\n",
              "    .dataframe tbody tr th:only-of-type {\n",
              "        vertical-align: middle;\n",
              "    }\n",
              "\n",
              "    .dataframe tbody tr th {\n",
              "        vertical-align: top;\n",
              "    }\n",
              "\n",
              "    .dataframe thead th {\n",
              "        text-align: right;\n",
              "    }\n",
              "</style>\n",
              "<table border=\"1\" class=\"dataframe\">\n",
              "  <thead>\n",
              "    <tr style=\"text-align: right;\">\n",
              "      <th></th>\n",
              "      <th>train_no</th>\n",
              "      <th>train_name</th>\n",
              "      <th>source</th>\n",
              "      <th>source_code</th>\n",
              "      <th>destination</th>\n",
              "      <th>destination_code</th>\n",
              "      <th>train_link</th>\n",
              "    </tr>\n",
              "  </thead>\n",
              "  <tbody>\n",
              "    <tr>\n",
              "      <th>9967</th>\n",
              "      <td>06541</td>\n",
              "      <td>Yesvantpur Vijayapura Special</td>\n",
              "      <td>Yesvantpur Junction</td>\n",
              "      <td>None</td>\n",
              "      <td>Bijapur</td>\n",
              "      <td>None</td>\n",
              "      <td>https://www.prokerala.com//travel/indian-railw...</td>\n",
              "    </tr>\n",
              "    <tr>\n",
              "      <th>9968</th>\n",
              "      <td>19031</td>\n",
              "      <td>Yoga Express</td>\n",
              "      <td>Ahmedabad Junction</td>\n",
              "      <td>None</td>\n",
              "      <td>Haridwar Junction</td>\n",
              "      <td>None</td>\n",
              "      <td>https://www.prokerala.com//travel/indian-railw...</td>\n",
              "    </tr>\n",
              "    <tr>\n",
              "      <th>9969</th>\n",
              "      <td>19032</td>\n",
              "      <td>Yoga Express</td>\n",
              "      <td>Haridwar Junction</td>\n",
              "      <td>None</td>\n",
              "      <td>Ahmedabad Junction</td>\n",
              "      <td>None</td>\n",
              "      <td>https://www.prokerala.com//travel/indian-railw...</td>\n",
              "    </tr>\n",
              "    <tr>\n",
              "      <th>9970</th>\n",
              "      <td>12395</td>\n",
              "      <td>Ziyarat Express</td>\n",
              "      <td>Rajendar Nagar Bihar</td>\n",
              "      <td>None</td>\n",
              "      <td>Ajmer Junction</td>\n",
              "      <td>None</td>\n",
              "      <td>https://www.prokerala.com//travel/indian-railw...</td>\n",
              "    </tr>\n",
              "    <tr>\n",
              "      <th>9971</th>\n",
              "      <td>12396</td>\n",
              "      <td>Ziyarat Express</td>\n",
              "      <td>Ajmer Junction</td>\n",
              "      <td>None</td>\n",
              "      <td>Rajendar Nagar Bihar</td>\n",
              "      <td>None</td>\n",
              "      <td>https://www.prokerala.com//travel/indian-railw...</td>\n",
              "    </tr>\n",
              "  </tbody>\n",
              "</table>\n",
              "</div>"
            ],
            "text/plain": [
              "     train_no  ...                                         train_link\n",
              "9967    06541  ...  https://www.prokerala.com//travel/indian-railw...\n",
              "9968    19031  ...  https://www.prokerala.com//travel/indian-railw...\n",
              "9969    19032  ...  https://www.prokerala.com//travel/indian-railw...\n",
              "9970    12395  ...  https://www.prokerala.com//travel/indian-railw...\n",
              "9971    12396  ...  https://www.prokerala.com//travel/indian-railw...\n",
              "\n",
              "[5 rows x 7 columns]"
            ]
          },
          "metadata": {
            "tags": []
          },
          "execution_count": 237
        }
      ]
    },
    {
      "cell_type": "code",
      "metadata": {
        "id": "KvCLQ5RFb-GE",
        "colab_type": "code",
        "colab": {}
      },
      "source": [
        "station = []\n",
        "station_code = []"
      ],
      "execution_count": 0,
      "outputs": []
    },
    {
      "cell_type": "code",
      "metadata": {
        "id": "LgUIbBigdPFm",
        "colab_type": "code",
        "colab": {}
      },
      "source": [
        "url = \"https://www.cleartrip.com/trains/stations/list?page=\""
      ],
      "execution_count": 0,
      "outputs": []
    },
    {
      "cell_type": "code",
      "metadata": {
        "id": "prVnMI-0dePq",
        "colab_type": "code",
        "colab": {}
      },
      "source": [
        "for i in range(1, 6):\n",
        "    url1 = url + str(i)\n",
        "    response = requests.get(url1)\n",
        "    soup = bs4.BeautifulSoup(response.text, 'lxml')\n",
        "\n",
        "    match = soup.find(\"div\", class_=\"innerdiv\")\n",
        "    match1 = match.find(\"table\", class_=\"results\")\n",
        "    match2 = match1.find(\"tbody\")\n",
        "    match3 = match2.findAll(\"tr\")\n",
        "\n",
        "    for iter_ in match3:\n",
        "        match4 = iter_.findAll(\"td\")\n",
        "        station.append(match4[1].text)\n",
        "        station_code.append(match4[0].text)"
      ],
      "execution_count": 0,
      "outputs": []
    },
    {
      "cell_type": "code",
      "metadata": {
        "id": "K78HHYh-jzuw",
        "colab_type": "code",
        "colab": {}
      },
      "source": [
        "df1 = pd.DataFrame()\n",
        "df1[[\"station\"]] = pd.DataFrame(station)\n",
        "df1[[\"station_code\"]] = pd.DataFrame(station_code)"
      ],
      "execution_count": 0,
      "outputs": []
    },
    {
      "cell_type": "code",
      "metadata": {
        "id": "SO0ma2PXktS4",
        "colab_type": "code",
        "colab": {
          "base_uri": "https://localhost:8080/",
          "height": 204
        },
        "outputId": "37c12bc1-dcdf-4bba-bdd9-c09a9cfddbf9"
      },
      "source": [
        "df1.head()"
      ],
      "execution_count": 242,
      "outputs": [
        {
          "output_type": "execute_result",
          "data": {
            "text/html": [
              "<div>\n",
              "<style scoped>\n",
              "    .dataframe tbody tr th:only-of-type {\n",
              "        vertical-align: middle;\n",
              "    }\n",
              "\n",
              "    .dataframe tbody tr th {\n",
              "        vertical-align: top;\n",
              "    }\n",
              "\n",
              "    .dataframe thead th {\n",
              "        text-align: right;\n",
              "    }\n",
              "</style>\n",
              "<table border=\"1\" class=\"dataframe\">\n",
              "  <thead>\n",
              "    <tr style=\"text-align: right;\">\n",
              "      <th></th>\n",
              "      <th>station</th>\n",
              "      <th>station_code</th>\n",
              "    </tr>\n",
              "  </thead>\n",
              "  <tbody>\n",
              "    <tr>\n",
              "      <th>0</th>\n",
              "      <td>A N Dev Nagar</td>\n",
              "      <td>ACND</td>\n",
              "    </tr>\n",
              "    <tr>\n",
              "      <th>1</th>\n",
              "      <td>Abhaipur</td>\n",
              "      <td>AHA</td>\n",
              "    </tr>\n",
              "    <tr>\n",
              "      <th>2</th>\n",
              "      <td>Abhayapuri Asam</td>\n",
              "      <td>AYU</td>\n",
              "    </tr>\n",
              "    <tr>\n",
              "      <th>3</th>\n",
              "      <td>Abohar</td>\n",
              "      <td>ABS</td>\n",
              "    </tr>\n",
              "    <tr>\n",
              "      <th>4</th>\n",
              "      <td>Abu Road</td>\n",
              "      <td>ABR</td>\n",
              "    </tr>\n",
              "  </tbody>\n",
              "</table>\n",
              "</div>"
            ],
            "text/plain": [
              "           station station_code\n",
              "0    A N Dev Nagar         ACND\n",
              "1         Abhaipur          AHA\n",
              "2  Abhayapuri Asam          AYU\n",
              "3           Abohar          ABS\n",
              "4         Abu Road          ABR"
            ]
          },
          "metadata": {
            "tags": []
          },
          "execution_count": 242
        }
      ]
    },
    {
      "cell_type": "code",
      "metadata": {
        "id": "8h63ZuGrlcKg",
        "colab_type": "code",
        "colab": {
          "base_uri": "https://localhost:8080/",
          "height": 204
        },
        "outputId": "75df7828-5e5f-4399-ac10-717e3af8941d"
      },
      "source": [
        "df1.tail()"
      ],
      "execution_count": 243,
      "outputs": [
        {
          "output_type": "execute_result",
          "data": {
            "text/html": [
              "<div>\n",
              "<style scoped>\n",
              "    .dataframe tbody tr th:only-of-type {\n",
              "        vertical-align: middle;\n",
              "    }\n",
              "\n",
              "    .dataframe tbody tr th {\n",
              "        vertical-align: top;\n",
              "    }\n",
              "\n",
              "    .dataframe thead th {\n",
              "        text-align: right;\n",
              "    }\n",
              "</style>\n",
              "<table border=\"1\" class=\"dataframe\">\n",
              "  <thead>\n",
              "    <tr style=\"text-align: right;\">\n",
              "      <th></th>\n",
              "      <th>station</th>\n",
              "      <th>station_code</th>\n",
              "    </tr>\n",
              "  </thead>\n",
              "  <tbody>\n",
              "    <tr>\n",
              "      <th>4598</th>\n",
              "      <td>Zamania</td>\n",
              "      <td>ZNA</td>\n",
              "    </tr>\n",
              "    <tr>\n",
              "      <th>4599</th>\n",
              "      <td>Zampini</td>\n",
              "      <td>ZPI</td>\n",
              "    </tr>\n",
              "    <tr>\n",
              "      <th>4600</th>\n",
              "      <td>Zangalapalle</td>\n",
              "      <td>ZPL</td>\n",
              "    </tr>\n",
              "    <tr>\n",
              "      <th>4601</th>\n",
              "      <td>Zarap</td>\n",
              "      <td>ZARP</td>\n",
              "    </tr>\n",
              "    <tr>\n",
              "      <th>4602</th>\n",
              "      <td>Zawar</td>\n",
              "      <td>ZW</td>\n",
              "    </tr>\n",
              "  </tbody>\n",
              "</table>\n",
              "</div>"
            ],
            "text/plain": [
              "           station station_code\n",
              "4598       Zamania          ZNA\n",
              "4599       Zampini          ZPI\n",
              "4600  Zangalapalle          ZPL\n",
              "4601         Zarap         ZARP\n",
              "4602         Zawar           ZW"
            ]
          },
          "metadata": {
            "tags": []
          },
          "execution_count": 243
        }
      ]
    },
    {
      "cell_type": "code",
      "metadata": {
        "id": "wF5GDSaUpqKP",
        "colab_type": "code",
        "colab": {}
      },
      "source": [
        "for index, iter_ in df.iterrows():\n",
        "    sname = iter_[\"source\"]\n",
        "    dname = iter_[\"destination\"]\n",
        "    if sname in station:\n",
        "        ind = station.index(sname)\n",
        "        iter_[\"source_code\"] = station_code[ind]\n",
        "    if dname in station:\n",
        "        ind = station.index(dname)\n",
        "        iter_[\"destination_code\"] = station_code[ind]"
      ],
      "execution_count": 0,
      "outputs": []
    },
    {
      "cell_type": "code",
      "metadata": {
        "id": "7bywKz2QtNGS",
        "colab_type": "code",
        "colab": {
          "base_uri": "https://localhost:8080/",
          "height": 204
        },
        "outputId": "869a6a83-c9f0-41f3-bc94-914ecaa06be4"
      },
      "source": [
        "df.head()"
      ],
      "execution_count": 245,
      "outputs": [
        {
          "output_type": "execute_result",
          "data": {
            "text/html": [
              "<div>\n",
              "<style scoped>\n",
              "    .dataframe tbody tr th:only-of-type {\n",
              "        vertical-align: middle;\n",
              "    }\n",
              "\n",
              "    .dataframe tbody tr th {\n",
              "        vertical-align: top;\n",
              "    }\n",
              "\n",
              "    .dataframe thead th {\n",
              "        text-align: right;\n",
              "    }\n",
              "</style>\n",
              "<table border=\"1\" class=\"dataframe\">\n",
              "  <thead>\n",
              "    <tr style=\"text-align: right;\">\n",
              "      <th></th>\n",
              "      <th>train_no</th>\n",
              "      <th>train_name</th>\n",
              "      <th>source</th>\n",
              "      <th>source_code</th>\n",
              "      <th>destination</th>\n",
              "      <th>destination_code</th>\n",
              "      <th>train_link</th>\n",
              "    </tr>\n",
              "  </thead>\n",
              "  <tbody>\n",
              "    <tr>\n",
              "      <th>0</th>\n",
              "      <td>15609</td>\n",
              "      <td>Abadh Assam Express</td>\n",
              "      <td>Guwahati</td>\n",
              "      <td>GHY</td>\n",
              "      <td>Lalgarh Junction</td>\n",
              "      <td>LGH</td>\n",
              "      <td>https://www.prokerala.com//travel/indian-railw...</td>\n",
              "    </tr>\n",
              "    <tr>\n",
              "      <th>1</th>\n",
              "      <td>58719</td>\n",
              "      <td>Abhanpur Rajim NG Passenger</td>\n",
              "      <td>Abhanpur Junction</td>\n",
              "      <td>None</td>\n",
              "      <td>Rajim</td>\n",
              "      <td>None</td>\n",
              "      <td>https://www.prokerala.com//travel/indian-railw...</td>\n",
              "    </tr>\n",
              "    <tr>\n",
              "      <th>2</th>\n",
              "      <td>58721</td>\n",
              "      <td>Abhanpur Rajim NG Passenger</td>\n",
              "      <td>Abhanpur Junction</td>\n",
              "      <td>None</td>\n",
              "      <td>Rajim</td>\n",
              "      <td>None</td>\n",
              "      <td>https://www.prokerala.com//travel/indian-railw...</td>\n",
              "    </tr>\n",
              "    <tr>\n",
              "      <th>3</th>\n",
              "      <td>54703</td>\n",
              "      <td>Abohar Jodhpur Passenger</td>\n",
              "      <td>Abohar</td>\n",
              "      <td>ABS</td>\n",
              "      <td>Jodhpur Junction</td>\n",
              "      <td>JU</td>\n",
              "      <td>https://www.prokerala.com//travel/indian-railw...</td>\n",
              "    </tr>\n",
              "    <tr>\n",
              "      <th>4</th>\n",
              "      <td>79438</td>\n",
              "      <td>Abu Road Mahesana  DEMU</td>\n",
              "      <td>Abu Road</td>\n",
              "      <td>ABR</td>\n",
              "      <td>Mehsana Junction</td>\n",
              "      <td>None</td>\n",
              "      <td>https://www.prokerala.com//travel/indian-railw...</td>\n",
              "    </tr>\n",
              "  </tbody>\n",
              "</table>\n",
              "</div>"
            ],
            "text/plain": [
              "  train_no  ...                                         train_link\n",
              "0    15609  ...  https://www.prokerala.com//travel/indian-railw...\n",
              "1    58719  ...  https://www.prokerala.com//travel/indian-railw...\n",
              "2    58721  ...  https://www.prokerala.com//travel/indian-railw...\n",
              "3    54703  ...  https://www.prokerala.com//travel/indian-railw...\n",
              "4    79438  ...  https://www.prokerala.com//travel/indian-railw...\n",
              "\n",
              "[5 rows x 7 columns]"
            ]
          },
          "metadata": {
            "tags": []
          },
          "execution_count": 245
        }
      ]
    },
    {
      "cell_type": "code",
      "metadata": {
        "id": "EkOgoWqqwohB",
        "colab_type": "code",
        "colab": {
          "base_uri": "https://localhost:8080/",
          "height": 204
        },
        "outputId": "6cabfe12-e579-4525-f95d-2274694b9a7e"
      },
      "source": [
        "df.tail()"
      ],
      "execution_count": 246,
      "outputs": [
        {
          "output_type": "execute_result",
          "data": {
            "text/html": [
              "<div>\n",
              "<style scoped>\n",
              "    .dataframe tbody tr th:only-of-type {\n",
              "        vertical-align: middle;\n",
              "    }\n",
              "\n",
              "    .dataframe tbody tr th {\n",
              "        vertical-align: top;\n",
              "    }\n",
              "\n",
              "    .dataframe thead th {\n",
              "        text-align: right;\n",
              "    }\n",
              "</style>\n",
              "<table border=\"1\" class=\"dataframe\">\n",
              "  <thead>\n",
              "    <tr style=\"text-align: right;\">\n",
              "      <th></th>\n",
              "      <th>train_no</th>\n",
              "      <th>train_name</th>\n",
              "      <th>source</th>\n",
              "      <th>source_code</th>\n",
              "      <th>destination</th>\n",
              "      <th>destination_code</th>\n",
              "      <th>train_link</th>\n",
              "    </tr>\n",
              "  </thead>\n",
              "  <tbody>\n",
              "    <tr>\n",
              "      <th>9967</th>\n",
              "      <td>06541</td>\n",
              "      <td>Yesvantpur Vijayapura Special</td>\n",
              "      <td>Yesvantpur Junction</td>\n",
              "      <td>YPR</td>\n",
              "      <td>Bijapur</td>\n",
              "      <td>BJP</td>\n",
              "      <td>https://www.prokerala.com//travel/indian-railw...</td>\n",
              "    </tr>\n",
              "    <tr>\n",
              "      <th>9968</th>\n",
              "      <td>19031</td>\n",
              "      <td>Yoga Express</td>\n",
              "      <td>Ahmedabad Junction</td>\n",
              "      <td>ADI</td>\n",
              "      <td>Haridwar Junction</td>\n",
              "      <td>HW</td>\n",
              "      <td>https://www.prokerala.com//travel/indian-railw...</td>\n",
              "    </tr>\n",
              "    <tr>\n",
              "      <th>9969</th>\n",
              "      <td>19032</td>\n",
              "      <td>Yoga Express</td>\n",
              "      <td>Haridwar Junction</td>\n",
              "      <td>HW</td>\n",
              "      <td>Ahmedabad Junction</td>\n",
              "      <td>ADI</td>\n",
              "      <td>https://www.prokerala.com//travel/indian-railw...</td>\n",
              "    </tr>\n",
              "    <tr>\n",
              "      <th>9970</th>\n",
              "      <td>12395</td>\n",
              "      <td>Ziyarat Express</td>\n",
              "      <td>Rajendar Nagar Bihar</td>\n",
              "      <td>None</td>\n",
              "      <td>Ajmer Junction</td>\n",
              "      <td>AII</td>\n",
              "      <td>https://www.prokerala.com//travel/indian-railw...</td>\n",
              "    </tr>\n",
              "    <tr>\n",
              "      <th>9971</th>\n",
              "      <td>12396</td>\n",
              "      <td>Ziyarat Express</td>\n",
              "      <td>Ajmer Junction</td>\n",
              "      <td>AII</td>\n",
              "      <td>Rajendar Nagar Bihar</td>\n",
              "      <td>None</td>\n",
              "      <td>https://www.prokerala.com//travel/indian-railw...</td>\n",
              "    </tr>\n",
              "  </tbody>\n",
              "</table>\n",
              "</div>"
            ],
            "text/plain": [
              "     train_no  ...                                         train_link\n",
              "9967    06541  ...  https://www.prokerala.com//travel/indian-railw...\n",
              "9968    19031  ...  https://www.prokerala.com//travel/indian-railw...\n",
              "9969    19032  ...  https://www.prokerala.com//travel/indian-railw...\n",
              "9970    12395  ...  https://www.prokerala.com//travel/indian-railw...\n",
              "9971    12396  ...  https://www.prokerala.com//travel/indian-railw...\n",
              "\n",
              "[5 rows x 7 columns]"
            ]
          },
          "metadata": {
            "tags": []
          },
          "execution_count": 246
        }
      ]
    },
    {
      "cell_type": "code",
      "metadata": {
        "id": "4G9x3b3uwtqx",
        "colab_type": "code",
        "colab": {}
      },
      "source": [
        "df1.to_csv(\"station_list.csv\")\n",
        "files.download(\"station_list.csv\")"
      ],
      "execution_count": 0,
      "outputs": []
    },
    {
      "cell_type": "code",
      "metadata": {
        "id": "16W31LbqwzRi",
        "colab_type": "code",
        "colab": {}
      },
      "source": [
        "df.to_csv(\"train_list.csv\")\n",
        "files.download(\"train_list.csv\")"
      ],
      "execution_count": 0,
      "outputs": []
    }
  ]
}